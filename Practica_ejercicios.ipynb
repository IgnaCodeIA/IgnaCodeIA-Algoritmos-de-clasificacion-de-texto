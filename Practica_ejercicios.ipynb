{
  "cells": [
    {
      "cell_type": "markdown",
      "metadata": {},
      "source": [
        "![Texto alternativo](nlp.jpg \"Texto opcional del título\")\n"
      ]
    },
    {
      "cell_type": "markdown",
      "metadata": {},
      "source": [
        "\n",
        "\n",
        "\n",
        "\n",
        "<h1 style=\"color: #ffffff; font-size: 40px; font-weight: bold; text-align: center;\n",
        "background-color: #2e2e2e; border-radius: 6px; padding: 20px; box-shadow: 3px 3px 10px #000000;\n",
        "text-shadow: 0 0 5px #2ecc71, 0 0 10px #2ecc71, 0 0 20px #2ecc71, 0 0 40px #0e0e0e,\n",
        "0 0 80px #0e0e0e, 0 0 90px #0e0e0e;\">\n",
        "  Ejercicio de práctica\n",
        "</h1>\n",
        "\n"
      ]
    },
    {
      "cell_type": "markdown",
      "metadata": {
        "id": "VwxXnK0JYE7r"
      },
      "source": [
        "\n",
        "\n",
        "**Objetivo:** Entrenar un HMM usando la clase `hmm.HiddenMarkovModelTrainer()` sobre el dataset `UD_Spanish_AnCora`."
      ]
    },
    {
      "cell_type": "markdown",
      "metadata": {
        "id": "rZauZPmZYHtv"
      },
      "source": [
        "1. **Pre-procesamiento:** En el ejemplo anterior usamos el dataset en ingles `treebank`, el cual viene con una estructura diferente a la de `AnCora`, en esta parte escribe código para transformar la estructura de `AnCora` de manera que quede igual al `treebank` que usamos así:\n",
        "\n",
        "$$\\left[ \\left[ (\\text{'El'}, \\text{'DET'}), (\\dots), \\dots\\right], \\left[\\dots \\right] \\right]$$"
      ]
    },
    {
      "cell_type": "code",
      "execution_count": null,
      "metadata": {
        "colab": {
          "base_uri": "https://localhost:8080/",
          "height": 51
        },
        "id": "SvQh20V3aUu5",
        "outputId": "f6921236-63ec-45df-ea66-f29a5385fbb6"
      },
      "outputs": [
        {
          "name": "stdout",
          "output_type": "stream",
          "text": [
            "Requirement already satisfied: conllu in /usr/local/lib/python3.6/dist-packages (4.0)\n",
            "fatal: destination path 'UD_Spanish-AnCora' already exists and is not an empty directory.\n"
          ]
        }
      ],
      "source": [
        "!pip install conllu\n",
        "!git clone https://github.com/UniversalDependencies/UD_Spanish-AnCora.git\n",
        "from conllu import parse_incr"
      ]
    },
    {
      "cell_type": "code",
      "execution_count": null,
      "metadata": {
        "id": "BHQ_6UToYCYI"
      },
      "outputs": [],
      "source": [
        "data_file = open(\"UD_Spanish-AnCora/es_ancora-ud-train.conllu\", \"r\", encoding=\"utf-8\")\n",
        "data_array = []\n",
        "for tokenlist in parse_incr(data_file):\n",
        "  tokenized_text = []\n",
        "  for token in tokenlist:\n",
        "    tokenized_text.append((token['form'], token['upos']))\n",
        "  data_array.append(tokenized_text)"
      ]
    },
    {
      "cell_type": "code",
      "execution_count": null,
      "metadata": {
        "colab": {
          "base_uri": "https://localhost:8080/",
          "height": 34
        },
        "id": "f6hbkPd1bW_6",
        "outputId": "87b0bd60-5147-43aa-9bd2-1e5faee79808"
      },
      "outputs": [
        {
          "data": {
            "text/plain": [
              "14305"
            ]
          },
          "execution_count": 3,
          "metadata": {
            "tags": []
          },
          "output_type": "execute_result"
        }
      ],
      "source": [
        "len(data_array)"
      ]
    },
    {
      "cell_type": "markdown",
      "metadata": {
        "id": "fTSKg_mXdfQy"
      },
      "source": [
        "\n",
        "2. **Entrenamiento:** Una vez que el dataset esta con la estructura correcta, utiliza la clase `hmm.HiddenMarkovModelTrainer()` para entrenar con el $80 \\%$ del dataset como conjunto de `entrenamiento` y $20 \\%$ para el conjunto de `test`.\n",
        "\n",
        "**Ayuda:** Para la separacion entre conjuntos de entrenamiento y test, he usado  la funcion de Scikit Learn:  https://scikit-learn.org/stable/modules/generated/sklearn.model_selection.train_test_split.html\n",
        "\n"
      ]
    },
    {
      "cell_type": "code",
      "execution_count": null,
      "metadata": {
        "colab": {
          "base_uri": "https://localhost:8080/",
          "height": 51
        },
        "id": "LJzAg-lVct0g",
        "outputId": "1984282a-2af8-4745-ffac-9c9203b16456"
      },
      "outputs": [
        {
          "name": "stdout",
          "output_type": "stream",
          "text": [
            "11444\n",
            "2861\n"
          ]
        }
      ],
      "source": [
        "from sklearn.model_selection import train_test_split\n",
        "train_data, test_data = train_test_split(data_array, test_size=0.2, random_state=42)\n",
        "print(len(train_data))\n",
        "print(len(test_data))"
      ]
    },
    {
      "cell_type": "code",
      "execution_count": null,
      "metadata": {
        "colab": {
          "base_uri": "https://localhost:8080/",
          "height": 34
        },
        "id": "VmlTKqhveIrC",
        "outputId": "8f85b1b3-f720-4703-8145-9c6584f89515"
      },
      "outputs": [
        {
          "data": {
            "text/plain": [
              "<HiddenMarkovModelTagger 18 states and 34205 output symbols>"
            ]
          },
          "execution_count": 5,
          "metadata": {
            "tags": []
          },
          "output_type": "execute_result"
        }
      ],
      "source": [
        "from nltk.tag import hmm\n",
        "tagger = hmm.HiddenMarkovModelTrainer().train_supervised(train_data)\n",
        "tagger"
      ]
    },
    {
      "cell_type": "markdown",
      "metadata": {
        "id": "k28xuAy9eiMf"
      },
      "source": [
        "3. **Validación del modelo:** Un vez entrenado el `tagger`, calcula el rendimiento del modelo (usando `tagger.evaluate()`) para los conjuntos de `entrenamiento` y `test`."
      ]
    },
    {
      "cell_type": "code",
      "execution_count": null,
      "metadata": {
        "colab": {
          "base_uri": "https://localhost:8080/",
          "height": 34
        },
        "id": "w2FQV5b7eVaz",
        "outputId": "eb45f395-7320-47fd-9877-e060a833e9eb"
      },
      "outputs": [
        {
          "data": {
            "text/plain": [
              "0.979559757238844"
            ]
          },
          "execution_count": 6,
          "metadata": {
            "tags": []
          },
          "output_type": "execute_result"
        }
      ],
      "source": [
        "tagger.evaluate(train_data)"
      ]
    },
    {
      "cell_type": "code",
      "execution_count": null,
      "metadata": {
        "colab": {
          "base_uri": "https://localhost:8080/",
          "height": 34
        },
        "id": "fyQ5s_eQelxF",
        "outputId": "6247826d-248a-4261-f3ea-d84463659cf5"
      },
      "outputs": [
        {
          "data": {
            "text/plain": [
              "0.5023193277310924"
            ]
          },
          "execution_count": 7,
          "metadata": {
            "tags": []
          },
          "output_type": "execute_result"
        }
      ],
      "source": [
        "tagger.evaluate(test_data)"
      ]
    },
    {
      "cell_type": "markdown",
      "metadata": {
        "id": "J7izYvfRgImQ"
      },
      "source": [
        "## Observaciones importantes\n",
        "\n",
        "* Si usas el dataset `es_ancora-ud-dev.conllu` notarás que es muy pequeño, puedes intentar con el `es_ancora-ud-train.conllu`.\n",
        "\n",
        "* En la práctica, se acostumbra a entrenar el modelo con `es_ancora-ud-train.conllu` y se valida el test con `es_ancora-ud-test.conllu`, el archivo `es_ancora-ud-dev.conllu` es tipicamente para prototipado rápido del modelo."
      ]
    },
    {
      "cell_type": "code",
      "execution_count": null,
      "metadata": {
        "id": "mHYGtrVVeot5"
      },
      "outputs": [],
      "source": [
        "tagger = hmm.HiddenMarkovModelTrainer().train_supervised(data_array)"
      ]
    },
    {
      "cell_type": "code",
      "execution_count": null,
      "metadata": {
        "colab": {
          "base_uri": "https://localhost:8080/",
          "height": 34
        },
        "id": "NkzD4i-jg3UK",
        "outputId": "111c2063-e23a-4257-bca7-c697698644d9"
      },
      "outputs": [
        {
          "data": {
            "text/plain": [
              "14305"
            ]
          },
          "execution_count": 9,
          "metadata": {
            "tags": []
          },
          "output_type": "execute_result"
        }
      ],
      "source": [
        "data_file = open(\"UD_Spanish-AnCora/es_ancora-ud-train.conllu\", \"r\", encoding=\"utf-8\")\n",
        "test_array = []\n",
        "for tokenlist in parse_incr(data_file):\n",
        "  tokenized_text = []\n",
        "  for token in tokenlist:\n",
        "    tokenized_text.append((token['form'], token['upos']))\n",
        "  test_array.append(tokenized_text)\n",
        "len(test_array)"
      ]
    },
    {
      "cell_type": "code",
      "execution_count": null,
      "metadata": {
        "colab": {
          "base_uri": "https://localhost:8080/",
          "height": 34
        },
        "id": "XPT7OA1Bg-Gi",
        "outputId": "c77ca4d2-04d9-4076-bc19-05fb85383ce1"
      },
      "outputs": [
        {
          "data": {
            "text/plain": [
              "0.9793093709654282"
            ]
          },
          "execution_count": 10,
          "metadata": {
            "tags": []
          },
          "output_type": "execute_result"
        }
      ],
      "source": [
        "tagger.evaluate(test_array)"
      ]
    }
  ],
  "metadata": {
    "colab": {
      "provenance": [],
      "toc_visible": true
    },
    "kernelspec": {
      "display_name": "Python 3",
      "name": "python3"
    }
  },
  "nbformat": 4,
  "nbformat_minor": 0
}
